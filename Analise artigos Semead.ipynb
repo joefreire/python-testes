{
 "cells": [
  {
   "cell_type": "code",
   "execution_count": 3,
   "metadata": {},
   "outputs": [
    {
     "data": {
      "text/html": [
       "<div>\n",
       "<style scoped>\n",
       "    .dataframe tbody tr th:only-of-type {\n",
       "        vertical-align: middle;\n",
       "    }\n",
       "\n",
       "    .dataframe tbody tr th {\n",
       "        vertical-align: top;\n",
       "    }\n",
       "\n",
       "    .dataframe thead th {\n",
       "        text-align: right;\n",
       "    }\n",
       "</style>\n",
       "<table border=\"1\" class=\"dataframe\">\n",
       "  <thead>\n",
       "    <tr style=\"text-align: right;\">\n",
       "      <th></th>\n",
       "      <th>cod</th>\n",
       "      <th>ano</th>\n",
       "      <th>titulo</th>\n",
       "      <th>area</th>\n",
       "      <th>tema</th>\n",
       "    </tr>\n",
       "  </thead>\n",
       "  <tbody>\n",
       "    <tr>\n",
       "      <td>0</td>\n",
       "      <td>6</td>\n",
       "      <td>2018</td>\n",
       "      <td>Percepção de Maturidade Atual e Desejada em Ge...</td>\n",
       "      <td>Estudos Organizacionais</td>\n",
       "      <td>Abordagens e Teorias organizacionais Contempor...</td>\n",
       "    </tr>\n",
       "    <tr>\n",
       "      <td>1</td>\n",
       "      <td>13</td>\n",
       "      <td>2018</td>\n",
       "      <td>CONFIGURAÇÕES VINCULARES NA FORÇA AÉREA BRASIL...</td>\n",
       "      <td>Estudos Organizacionais</td>\n",
       "      <td>Comportamento Organizacional</td>\n",
       "    </tr>\n",
       "    <tr>\n",
       "      <td>2</td>\n",
       "      <td>20</td>\n",
       "      <td>2018</td>\n",
       "      <td>Accounting and Actuarial Students Expectations...</td>\n",
       "      <td>Finanças</td>\n",
       "      <td>Governança, Risco e Compliance</td>\n",
       "    </tr>\n",
       "    <tr>\n",
       "      <td>3</td>\n",
       "      <td>24</td>\n",
       "      <td>2018</td>\n",
       "      <td>EXTERNALIDADES DA PRODUÇÃO SUINÍCOLA SOB O ENF...</td>\n",
       "      <td>Gestão Socioambiental</td>\n",
       "      <td>Estratégia e Sustentabilidade</td>\n",
       "    </tr>\n",
       "    <tr>\n",
       "      <td>4</td>\n",
       "      <td>31</td>\n",
       "      <td>2018</td>\n",
       "      <td>A HIPERMÍDIA COMO VIABILIZAÇÃO DA ÉTICA NA ADM...</td>\n",
       "      <td>Artigos Aplicados</td>\n",
       "      <td>Administração Pública</td>\n",
       "    </tr>\n",
       "  </tbody>\n",
       "</table>\n",
       "</div>"
      ],
      "text/plain": [
       "   cod   ano                                             titulo  \\\n",
       "0    6  2018  Percepção de Maturidade Atual e Desejada em Ge...   \n",
       "1   13  2018  CONFIGURAÇÕES VINCULARES NA FORÇA AÉREA BRASIL...   \n",
       "2   20  2018  Accounting and Actuarial Students Expectations...   \n",
       "3   24  2018  EXTERNALIDADES DA PRODUÇÃO SUINÍCOLA SOB O ENF...   \n",
       "4   31  2018  A HIPERMÍDIA COMO VIABILIZAÇÃO DA ÉTICA NA ADM...   \n",
       "\n",
       "                      area                                               tema  \n",
       "0  Estudos Organizacionais  Abordagens e Teorias organizacionais Contempor...  \n",
       "1  Estudos Organizacionais                       Comportamento Organizacional  \n",
       "2                 Finanças                     Governança, Risco e Compliance  \n",
       "3    Gestão Socioambiental                      Estratégia e Sustentabilidade  \n",
       "4        Artigos Aplicados                              Administração Pública  "
      ]
     },
     "execution_count": 3,
     "metadata": {},
     "output_type": "execute_result"
    }
   ],
   "source": [
    "import mysql.connector\n",
    "import pandas as pd\n",
    "from sqlalchemy import create_engine\n",
    "\n",
    "engine = create_engine('mysql+pymysql://root@localhost/semead')\n",
    "\n",
    "\n",
    "df = pd.read_sql('SELECT * FROM artigos', engine)\n",
    "df.head()"
   ]
  },
  {
   "cell_type": "code",
   "execution_count": null,
   "metadata": {},
   "outputs": [],
   "source": [
    "autores = pd.read_sql('SELECT * FROM artigos LEFT JOIN autores on (autores.cod = artigos.cod and autores.ano = artigos.ano limit 50)', engine)\n",
    "autores.head()"
   ]
  },
  {
   "cell_type": "code",
   "execution_count": 33,
   "metadata": {},
   "outputs": [
    {
     "data": {
      "text/plain": [
       "<matplotlib.axes._subplots.AxesSubplot at 0x10feafc1fc8>"
      ]
     },
     "execution_count": 33,
     "metadata": {},
     "output_type": "execute_result"
    },
    {
     "data": {
      "image/png": "[encoded data removed]",
      "text/plain": [
       "<Figure size 432x288 with 1 Axes>"
      ]
     },
     "metadata": {
      "needs_background": "light"
     },
     "output_type": "display_data"
    }
   ],
   "source": [
    "import seaborn as sns\n",
    "import matplotlib.pyplot as plt\n",
    "df = autores = pd.read_sql('SELECT * FROM artigos LEFT JOIN autores on (autores.cod = artigos.cod and autores.ano = artigos.ano limit 50)', engine)\n",
    "\n",
    "sns.barplot(x=df.nome.value_counts().index, y=df.nome.value_counts())"
   ]
  },
  {
   "cell_type": "code",
   "execution_count": null,
   "metadata": {},
   "outputs": [],
   "source": [
    "import numpy as np\n",
    "import seaborn as sns\n",
    "import matplotlib.pyplot as plt\n",
    "from scipy import stats"
   ]
  }
 ],
 "metadata": {
  "kernelspec": {
   "display_name": "Python 3",
   "language": "python",
   "name": "python3"
  },
  "language_info": {
   "codemirror_mode": {
    "name": "ipython",
    "version": 3
   },
   "file_extension": ".py",
   "mimetype": "text/x-python",
   "name": "python",
   "nbconvert_exporter": "python",
   "pygments_lexer": "ipython3",
   "version": "3.7.4"
  }
 },
 "nbformat": 4,
 "nbformat_minor": 2
}
